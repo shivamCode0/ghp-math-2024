{
 "cells": [
  {
   "cell_type": "code",
   "execution_count": 4,
   "metadata": {},
   "outputs": [
    {
     "name": "stdout",
     "output_type": "stream",
     "text": [
      "0 0\n",
      "1 1\n",
      "2 4\n",
      "3 9\n",
      "4 16\n",
      "5 25\n",
      "6 36\n",
      "7 49\n",
      "8 64\n",
      "9 81 <---\n",
      "10 100\n",
      "11 121\n",
      "12 144\n",
      "13 169\n",
      "14 196\n",
      "15 225\n",
      "16 256\n",
      "17 289\n",
      "18 324\n",
      "19 361\n",
      "20 400\n",
      "21 441\n",
      "22 484\n",
      "23 529\n",
      "24 576\n",
      "25 625\n",
      "26 676\n",
      "27 729\n",
      "28 784\n",
      "29 841\n",
      "30 900\n",
      "31 961\n",
      "32 1024\n",
      "33 1089\n",
      "34 1156 <---\n",
      "35 1225\n",
      "36 1296\n"
     ]
    }
   ],
   "source": [
    "for i in range(123):\n",
    "    a = i ** 2\n",
    "    if a > 1300:\n",
    "        break\n",
    "    if len(str(a))>1 and str(a)[1]==\"1\":\n",
    "        print(i,a, \"<---\")\n",
    "    else:\n",
    "        print(i,a)"
   ]
  },
  {
   "cell_type": "code",
   "execution_count": 5,
   "metadata": {},
   "outputs": [
    {
     "name": "stdout",
     "output_type": "stream",
     "text": [
      "0 0\n",
      "1 1\n",
      "2 8\n",
      "3 27\n",
      "4 64\n",
      "5 125\n",
      "6 216 <---\n",
      "7 343\n",
      "8 512 <---\n",
      "9 729\n",
      "10 1000\n"
     ]
    }
   ],
   "source": [
    "for i in range(123):\n",
    "    a = i ** 3\n",
    "    if a > 1300:\n",
    "        break\n",
    "    if len(str(a))>1 and str(a)[1]==\"1\":\n",
    "        print(i,a, \"<---\")\n",
    "    else:\n",
    "        print(i,a)"
   ]
  }
 ],
 "metadata": {
  "kernelspec": {
   "display_name": "Python 3",
   "language": "python",
   "name": "python3"
  },
  "language_info": {
   "codemirror_mode": {
    "name": "ipython",
    "version": 3
   },
   "file_extension": ".py",
   "mimetype": "text/x-python",
   "name": "python",
   "nbconvert_exporter": "python",
   "pygments_lexer": "ipython3",
   "version": "3.9.13"
  }
 },
 "nbformat": 4,
 "nbformat_minor": 2
}
